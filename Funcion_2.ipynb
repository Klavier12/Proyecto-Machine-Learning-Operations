{
 "cells": [
  {
   "cell_type": "code",
   "execution_count": 1,
   "metadata": {},
   "outputs": [],
   "source": [
    "import pandas as pd \n",
    "import numpy as np "
   ]
  },
  {
   "cell_type": "code",
   "execution_count": 3,
   "metadata": {},
   "outputs": [],
   "source": [
    "#importamos los datasets previamente transformados\n",
    "#Primero ponemos la ruta\n",
    "ruta_games = r\"C:\\Users\\Cristian\\Desktop\\DATA SCIENCE\\HENRY\\PI1\\PI MLOps - STEAM\\Datos Estructurados\\games.parquet\"\n",
    "ruta_items = r\"C:\\Users\\Cristian\\Desktop\\DATA SCIENCE\\HENRY\\PI1\\PI MLOps - STEAM\\Datos Estructurados\\users_items.parquet\"\n",
    "ruta_reviews = r\"C:\\Users\\Cristian\\Desktop\\DATA SCIENCE\\HENRY\\PI1\\PI MLOps - STEAM\\Datos Estructurados\\df_review_final.parquet\"\n",
    "#luego los extraemos\n",
    "games = pd.read_parquet(ruta_games)\n",
    "items = pd.read_parquet(ruta_items)\n",
    "reviews = pd.read_parquet(ruta_reviews)"
   ]
  },
  {
   "cell_type": "code",
   "execution_count": 8,
   "metadata": {},
   "outputs": [],
   "source": [
    "# Se extraen las columnas que se necesitan\n",
    "items_col = items[[\"user_id\", \"items_count\", \"item_id\"]]\n",
    "reviews_col = reviews[[\"User_Id\", \"Item_Id\", \"Recommend\"]]\n",
    "games_col = games[[\"Id\", \"Price\"]]"
   ]
  },
  {
   "cell_type": "code",
   "execution_count": 35,
   "metadata": {},
   "outputs": [
    {
     "name": "stderr",
     "output_type": "stream",
     "text": [
      "C:\\Users\\Cristian\\AppData\\Local\\Temp\\ipykernel_8604\\1839938983.py:4: SettingWithCopyWarning: \n",
      "A value is trying to be set on a copy of a slice from a DataFrame\n",
      "\n",
      "See the caveats in the documentation: https://pandas.pydata.org/pandas-docs/stable/user_guide/indexing.html#returning-a-view-versus-a-copy\n",
      "  games_col.rename(columns={'Id':'Item_Id'}, inplace=True)\n"
     ]
    }
   ],
   "source": [
    "# Se normalizan los nombres de las columnas\n",
    "items_col.columns = items_col.columns.str.replace('_', ' ').str.title().str.replace(' ', '_')\n",
    "# Se cambia el nombre de las columnas\n",
    "games_col.rename(columns={'Id':'Item_Id'}, inplace=True)"
   ]
  },
  {
   "cell_type": "code",
   "execution_count": 41,
   "metadata": {},
   "outputs": [
    {
     "data": {
      "text/html": [
       "<div>\n",
       "<style scoped>\n",
       "    .dataframe tbody tr th:only-of-type {\n",
       "        vertical-align: middle;\n",
       "    }\n",
       "\n",
       "    .dataframe tbody tr th {\n",
       "        vertical-align: top;\n",
       "    }\n",
       "\n",
       "    .dataframe thead th {\n",
       "        text-align: right;\n",
       "    }\n",
       "</style>\n",
       "<table border=\"1\" class=\"dataframe\">\n",
       "  <thead>\n",
       "    <tr style=\"text-align: right;\">\n",
       "      <th></th>\n",
       "      <th>User_Id</th>\n",
       "      <th>Items_Count</th>\n",
       "      <th>Item_Id</th>\n",
       "      <th>Recommend</th>\n",
       "      <th>Price</th>\n",
       "    </tr>\n",
       "  </thead>\n",
       "  <tbody>\n",
       "    <tr>\n",
       "      <th>0</th>\n",
       "      <td>76561197970982479</td>\n",
       "      <td>277</td>\n",
       "      <td>22200</td>\n",
       "      <td>True</td>\n",
       "      <td>9.99</td>\n",
       "    </tr>\n",
       "    <tr>\n",
       "      <th>1</th>\n",
       "      <td>76561197970982479</td>\n",
       "      <td>277</td>\n",
       "      <td>1250</td>\n",
       "      <td>True</td>\n",
       "      <td>19.99</td>\n",
       "    </tr>\n",
       "    <tr>\n",
       "      <th>2</th>\n",
       "      <td>js41637</td>\n",
       "      <td>888</td>\n",
       "      <td>227300</td>\n",
       "      <td>True</td>\n",
       "      <td>19.99</td>\n",
       "    </tr>\n",
       "    <tr>\n",
       "      <th>3</th>\n",
       "      <td>js41637</td>\n",
       "      <td>888</td>\n",
       "      <td>239030</td>\n",
       "      <td>True</td>\n",
       "      <td>9.99</td>\n",
       "    </tr>\n",
       "    <tr>\n",
       "      <th>4</th>\n",
       "      <td>evcentric</td>\n",
       "      <td>137</td>\n",
       "      <td>107200</td>\n",
       "      <td>True</td>\n",
       "      <td>9.99</td>\n",
       "    </tr>\n",
       "  </tbody>\n",
       "</table>\n",
       "</div>"
      ],
      "text/plain": [
       "             User_Id  Items_Count  Item_Id Recommend  Price\n",
       "0  76561197970982479          277    22200      True   9.99\n",
       "1  76561197970982479          277     1250      True  19.99\n",
       "2            js41637          888   227300      True  19.99\n",
       "3            js41637          888   239030      True   9.99\n",
       "4          evcentric          137   107200      True   9.99"
      ]
     },
     "execution_count": 41,
     "metadata": {},
     "output_type": "execute_result"
    }
   ],
   "source": [
    "# Eliminamos nulos\n",
    "items_col = items_col.dropna(subset=['Item_Id'])\n",
    "reviews_col = reviews_col.dropna(subset=['Item_Id'])\n",
    "games_col = games_col.dropna(subset=['Item_Id'])\n",
    "\n",
    "# Convertimos columnas al mismo tipo\n",
    "items_col[\"Item_Id\"] = items_col[\"Item_Id\"].astype(\"int64\")\n",
    "reviews_col[\"Item_Id\"] = reviews_col[\"Item_Id\"].astype(\"int64\")\n",
    "games_col[\"Item_Id\"] = games_col[\"Item_Id\"].astype(\"int64\") \n",
    "# Ahora unimos los datasets\n",
    "\n",
    "dataset_1 = pd.merge(items_col, reviews_col, on=[\"User_Id\", \"Item_Id\"], how = \"inner\")\n",
    "funcion_2 = pd.merge(dataset_1, games_col, on= \"Item_Id\", how= \"inner\")\n",
    "funcion_2.head(5)"
   ]
  },
  {
   "cell_type": "code",
   "execution_count": 52,
   "metadata": {},
   "outputs": [],
   "source": [
    "#def userdata( User_id : str ): Debe devolver cantidad de dinero gastado por el usuario, el porcentaje de recomendación en base a reviews.recommend y cantidad de items.\n",
    "#Ejemplo de retorno: {\"Usuario X\" : us213ndjss09sdf, \"Dinero gastado\": 200 USD, \"% de recomendación\": 20%, \"cantidad de items\": 5}\n",
    "\n",
    "def userdata(User_id : str):\n",
    "    '''\n",
    "    Esta función devuelve información sobre un usuario según su 'user_id'.\n",
    "\n",
    "    Args:\n",
    "        user_id (str): Identificador único del usuario.\n",
    "\n",
    "    Returns:\n",
    "        dict: Un diccionario que contiene información sobre el usuario.\n",
    "            - 'cantidad_dinero' (int): Cantidad de dinero gastado por el usuario.\n",
    "            - 'porcentaje_recomendacion' (float): Porcentaje de recomendaciones realizadas por el usuario.\n",
    "            - 'total_items' (int): Cantidad de items que tiene el usuario.\n",
    "    '''\n",
    "     # Obtenemos solamente la informacion relacionada con el usuario\n",
    "    user_data = funcion_2[funcion_2['User_Id'] == User_id]\n",
    "    \n",
    "    if user_data.empty:\n",
    "        return f\"No se encontraron datos para el usuario {User_id}\"\n",
    "    \n",
    "    # Cantidad de dinero gastado\n",
    "    dinero_gastado = user_data['Price'].sum().round(2)\n",
    "\n",
    "    # Porcentaje de recomendación\n",
    "    total_reviews = len(user_data)\n",
    "    recomendaciones = user_data[user_data['Recommend'] == True]\n",
    "    porcentaje_recomendacion = len(recomendaciones) / total_reviews * 100 if total_reviews > 0 else 0\n",
    "\n",
    "    # Cantidad de items \n",
    "    cantidad_items = user_data['Items_Count'].iloc[0]  \n",
    "\n",
    "    return {\n",
    "        \"Usuario\": User_id,\n",
    "        \"Dinero gastado\": f\"{dinero_gastado} USD\",\n",
    "        \"% de recomendación\": f\"{porcentaje_recomendacion:.2f}%\",\n",
    "        \"Cantidad de items\": cantidad_items\n",
    "    }\n"
   ]
  },
  {
   "cell_type": "code",
   "execution_count": 55,
   "metadata": {},
   "outputs": [
    {
     "name": "stdout",
     "output_type": "stream",
     "text": [
      "{'Usuario': '76561197970982479', 'Dinero gastado': '29.98 USD', '% de recomendación': '100.00%', 'Cantidad de items': 277}\n"
     ]
    }
   ],
   "source": [
    "print(userdata('76561197970982479'))"
   ]
  },
  {
   "cell_type": "code",
   "execution_count": 56,
   "metadata": {},
   "outputs": [],
   "source": [
    "funcion_2.to_parquet(\"Dataset_funcion_2.parquet\", engine = \"pyarrow\") #Exportamos el dataset"
   ]
  }
 ],
 "metadata": {
  "kernelspec": {
   "display_name": "Python 3",
   "language": "python",
   "name": "python3"
  },
  "language_info": {
   "codemirror_mode": {
    "name": "ipython",
    "version": 3
   },
   "file_extension": ".py",
   "mimetype": "text/x-python",
   "name": "python",
   "nbconvert_exporter": "python",
   "pygments_lexer": "ipython3",
   "version": "3.11.0"
  }
 },
 "nbformat": 4,
 "nbformat_minor": 2
}
