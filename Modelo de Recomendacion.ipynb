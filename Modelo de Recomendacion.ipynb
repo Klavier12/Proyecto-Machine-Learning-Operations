{
 "cells": [
  {
   "cell_type": "code",
   "execution_count": 1,
   "metadata": {},
   "outputs": [],
   "source": [
    "import pandas as pd \n",
    "import numpy as np \n",
    "import sklearn\n",
    "from sklearn.metrics.pairwise import cosine_similarity, linear_kernel\n",
    "from sklearn.feature_extraction.text import TfidfVectorizer\n",
    "\n"
   ]
  },
  {
   "cell_type": "markdown",
   "metadata": {},
   "source": [
    "Importamos los datasets previamente transformados"
   ]
  },
  {
   "cell_type": "code",
   "execution_count": 2,
   "metadata": {},
   "outputs": [],
   "source": [
    "\n",
    "#Primero ponemos la ruta\n",
    "ruta_games = r\"C:\\Users\\Cristian\\Desktop\\DATA SCIENCE\\HENRY\\PI1\\PI MLOps - STEAM\\Datos Estructurados\\games.parquet\"\n",
    "ruta_items = r\"C:\\Users\\Cristian\\Desktop\\DATA SCIENCE\\HENRY\\PI1\\PI MLOps - STEAM\\Datos Estructurados\\users_items.parquet\"\n",
    "ruta_reviews = r\"C:\\Users\\Cristian\\Desktop\\DATA SCIENCE\\HENRY\\PI1\\PI MLOps - STEAM\\Datos Estructurados\\df_review_final.parquet\"\n",
    "#luego los extraemos\n",
    "games = pd.read_parquet(ruta_games)\n",
    "#items = pd.read_parquet(ruta_items)\n",
    "reviews = pd.read_parquet(ruta_reviews)"
   ]
  },
  {
   "cell_type": "code",
   "execution_count": 3,
   "metadata": {},
   "outputs": [],
   "source": [
    "# Primero se convertira la columna a int32 para un menor uso de memoria\n",
    "reviews[\"Item_Id\"] = reviews[\"Item_Id\"].astype(float) "
   ]
  },
  {
   "cell_type": "markdown",
   "metadata": {},
   "source": [
    "# Ahora procederemos a unir los Datasets Games y Reviews"
   ]
  },
  {
   "cell_type": "code",
   "execution_count": 4,
   "metadata": {},
   "outputs": [
    {
     "name": "stdout",
     "output_type": "stream",
     "text": [
      "<class 'pandas.core.frame.DataFrame'>\n",
      "RangeIndex: 49777 entries, 0 to 49776\n",
      "Data columns (total 11 columns):\n",
      " #   Column                Non-Null Count  Dtype  \n",
      "---  ------                --------------  -----  \n",
      " 0   App_Name              49777 non-null  object \n",
      " 1   Id                    49777 non-null  int32  \n",
      " 2   Genres                49777 non-null  object \n",
      " 3   Developer             49777 non-null  object \n",
      " 4   Publisher             49777 non-null  object \n",
      " 5   Price                 49777 non-null  float64\n",
      " 6   Release_Date          49713 non-null  object \n",
      " 7   User_Id               49777 non-null  object \n",
      " 8   Item_Id               49777 non-null  float64\n",
      " 9   Recommend             49777 non-null  object \n",
      " 10  Analisis_Sentimiento  49777 non-null  int64  \n",
      "dtypes: float64(2), int32(1), int64(1), object(7)\n",
      "memory usage: 4.0+ MB\n"
     ]
    }
   ],
   "source": [
    "\n",
    "\n",
    "Data = pd.merge(games, reviews, how='inner', left_on='Id', right_on='Item_Id')\n",
    "Data.info()"
   ]
  },
  {
   "cell_type": "markdown",
   "metadata": {},
   "source": [
    "Procedemos a eliminar la columna Id ya que tiene los mismos datos que Item_Id"
   ]
  },
  {
   "cell_type": "code",
   "execution_count": 5,
   "metadata": {},
   "outputs": [
    {
     "name": "stdout",
     "output_type": "stream",
     "text": [
      "True    1.0\n",
      "Name: proportion, dtype: float64\n"
     ]
    }
   ],
   "source": [
    "\n",
    "comparison = Data[\"Id\"] == Data[\"Item_Id\"]\n",
    "value_counts = comparison.value_counts(normalize=True)\n",
    "print(value_counts)\n"
   ]
  },
  {
   "cell_type": "code",
   "execution_count": 6,
   "metadata": {},
   "outputs": [
    {
     "name": "stdout",
     "output_type": "stream",
     "text": [
      "<class 'pandas.core.frame.DataFrame'>\n",
      "RangeIndex: 49777 entries, 0 to 49776\n",
      "Data columns (total 10 columns):\n",
      " #   Column                Non-Null Count  Dtype  \n",
      "---  ------                --------------  -----  \n",
      " 0   App_Name              49777 non-null  object \n",
      " 1   Genres                49777 non-null  object \n",
      " 2   Developer             49777 non-null  object \n",
      " 3   Publisher             49777 non-null  object \n",
      " 4   Price                 49777 non-null  float64\n",
      " 5   Release_Date          49713 non-null  object \n",
      " 6   User_Id               49777 non-null  object \n",
      " 7   Item_Id               49777 non-null  float64\n",
      " 8   Recommend             49777 non-null  object \n",
      " 9   Analisis_Sentimiento  49777 non-null  int64  \n",
      "dtypes: float64(2), int64(1), object(7)\n",
      "memory usage: 3.8+ MB\n"
     ]
    }
   ],
   "source": [
    "Data.drop(columns=[\"Id\"], inplace = True)\n",
    "Data.info()"
   ]
  },
  {
   "cell_type": "code",
   "execution_count": 7,
   "metadata": {},
   "outputs": [],
   "source": [
    "# Vemos que hay nulos en la columna Release Date\n",
    "Data.isnull().sum()\n",
    "Data.dropna(inplace=True)"
   ]
  },
  {
   "cell_type": "code",
   "execution_count": 8,
   "metadata": {},
   "outputs": [
    {
     "data": {
      "text/plain": [
       "App_Name                0\n",
       "Genres                  0\n",
       "Developer               0\n",
       "Publisher               0\n",
       "Price                   0\n",
       "Release_Date            0\n",
       "User_Id                 0\n",
       "Item_Id                 0\n",
       "Recommend               0\n",
       "Analisis_Sentimiento    0\n",
       "dtype: int64"
      ]
     },
     "execution_count": 8,
     "metadata": {},
     "output_type": "execute_result"
    }
   ],
   "source": [
    "# Los eliminamos\n",
    "Data.isnull().sum()"
   ]
  },
  {
   "cell_type": "code",
   "execution_count": 9,
   "metadata": {},
   "outputs": [],
   "source": [
    "# Ahora vamos a sacar una muestra\n",
    "muestra = 0.11\n",
    "Data_sample = Data.sample(frac = muestra, random_state=42)\n",
    "Data_sample.shape\n",
    "# Ahora procederemos a resetear el index para conservar el orden\n",
    "Data_sample = Data_sample.reset_index(drop=True)"
   ]
  },
  {
   "cell_type": "code",
   "execution_count": 10,
   "metadata": {},
   "outputs": [
    {
     "data": {
      "text/plain": [
       "array(['fukum008', '76561198071862339', '76561198051717662', ...,\n",
       "       '76561198059969798', '76561198085982092', 'mozdawg'], dtype=object)"
      ]
     },
     "execution_count": 10,
     "metadata": {},
     "output_type": "execute_result"
    }
   ],
   "source": [
    "Data_sample[\"User_Id\"].unique()"
   ]
  },
  {
   "cell_type": "markdown",
   "metadata": {},
   "source": [
    "# Modelo de recomendacion"
   ]
  },
  {
   "cell_type": "code",
   "execution_count": 14,
   "metadata": {},
   "outputs": [],
   "source": [
    "# Modelo de recomendacion usuario/item\n",
    "def recomendacion_usuario(user_id):\n",
    "    # Crear una instancia de TfidfVectorizer con stop words en inglés\n",
    "    tfidf = TfidfVectorizer(stop_words='english')\n",
    "\n",
    "    # Rellenar los valores nulos en la columna 'app_name' con una cadena vacía\n",
    "    Data_sample['App_Name'] = Data_sample['App_Name'].fillna('')\n",
    "\n",
    "    # Aplicar la transformación TF-IDF a los datos de la columna 'app_name'\n",
    "    tfidf_matrix = tfidf.fit_transform(Data_sample['App_Name'])\n",
    "\n",
    "    # Calcular la similitud coseno entre los juegos utilizando linear_kernel\n",
    "    cosine_sim = linear_kernel(tfidf_matrix, tfidf_matrix)\n",
    "\n",
    "    # Obtener el índice del usuario específico en el DataFrame\n",
    "    matching_users = Data_sample[Data_sample['User_Id'] == user_id]\n",
    "\n",
    "    if not matching_users.empty:\n",
    "        user_index = matching_users.index[0]\n",
    "\n",
    "        # Obtener las recomendaciones basadas en similitud coseno y los filtros requeridos\n",
    "        recommendations = []\n",
    "        seen_games = set()  # Utilizar un conjunto para evitar duplicados\n",
    "        for i, score in sorted(enumerate(cosine_sim[user_index]), key=lambda x: x[1], reverse=True):\n",
    "            if Data_sample['Recommend'][i] and Data_sample['Analisis_Sentimiento'][i] in [0, 1, 2]:\n",
    "                app_name = Data_sample['App_Name'][i]\n",
    "                if app_name not in seen_games:\n",
    "                    recommendations.append((app_name, score))\n",
    "                    seen_games.add(app_name)\n",
    "\n",
    "        # Seleccionar las primeras 5 recomendaciones\n",
    "        top_recommendations = recommendations[:5]\n",
    "\n",
    "        # Imprimir las recomendaciones\n",
    "        print(f\"Top 5 juegos recomendados para el usuario {user_id}:\")\n",
    "        for App_name, score in top_recommendations:\n",
    "            print(f\"{App_name} - Similaridad: {score}\")\n",
    "    else:\n",
    "        print(f\"No se encontró el usuario con ID: {user_id}\")"
   ]
  },
  {
   "cell_type": "markdown",
   "metadata": {},
   "source": [
    "Testeamos"
   ]
  },
  {
   "cell_type": "code",
   "execution_count": 15,
   "metadata": {},
   "outputs": [
    {
     "name": "stdout",
     "output_type": "stream",
     "text": [
      "Top 5 juegos recomendados para el usuario mozdawg:\n",
      "Call of Duty® 4: Modern Warfare® - Similaridad: 1.0\n",
      "Call of Duty®: Modern Warfare® 2 - Similaridad: 1.0\n",
      "Call of Duty®: Advanced Warfare - Gold Edition - Similaridad: 0.42703644877317937\n",
      "Call of Duty®: Ghosts - Similaridad: 0.31485250167366635\n",
      "Chivalry: Medieval Warfare - Similaridad: 0.2996532993444642\n"
     ]
    }
   ],
   "source": [
    "recomendacion_usuario('mozdawg')"
   ]
  },
  {
   "cell_type": "markdown",
   "metadata": {},
   "source": [
    "Exportamos a formato parquet"
   ]
  },
  {
   "cell_type": "code",
   "execution_count": 32,
   "metadata": {},
   "outputs": [],
   "source": [
    "Data_sample.to_parquet(\"Data_Sample_Recommendation\", engine = \"pyarrow\")"
   ]
  }
 ],
 "metadata": {
  "kernelspec": {
   "display_name": "Python 3",
   "language": "python",
   "name": "python3"
  },
  "language_info": {
   "codemirror_mode": {
    "name": "ipython",
    "version": 3
   },
   "file_extension": ".py",
   "mimetype": "text/x-python",
   "name": "python",
   "nbconvert_exporter": "python",
   "pygments_lexer": "ipython3",
   "version": "3.11.0"
  }
 },
 "nbformat": 4,
 "nbformat_minor": 2
}
